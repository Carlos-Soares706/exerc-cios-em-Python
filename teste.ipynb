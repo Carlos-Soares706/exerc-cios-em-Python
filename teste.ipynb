{
 "cells": [
  {
   "cell_type": "markdown",
   "metadata": {},
   "source": [
    "Exercício 1: Verificação de Maioridade\n",
    "Peça ao usuário para inserir sua idade e imprima uma mensagem indicando se ele é maior de idade (18 anos ou mais) ou menor de idade."
   ]
  },
  {
   "cell_type": "code",
   "execution_count": 6,
   "metadata": {},
   "outputs": [
    {
     "name": "stdout",
     "output_type": "stream",
     "text": [
      "maior de idade\n"
     ]
    }
   ],
   "source": [
    "idade = int(input('digite sua idade: '))\n",
    "if idade >= 18:\n",
    "    print(\"maior de idade\")\n",
    "else:\n",
    "    print(\"Menor de idade\")\n"
   ]
  },
  {
   "cell_type": "markdown",
   "metadata": {},
   "source": [
    "Exercício 2: Verificação de Número Par ou Ímpar\n",
    "Peça ao usuário para inserir um número e imprima uma mensagem indicando se o número é par ou ímpar.\n"
   ]
  },
  {
   "cell_type": "code",
   "execution_count": 43,
   "metadata": {},
   "outputs": [
    {
     "name": "stdout",
     "output_type": "stream",
     "text": [
      "Impar\n"
     ]
    }
   ],
   "source": [
    "numero = int(input('digite um numero:'))\n",
    "\n",
    "if  numero  %2 != 0 :\n",
    "    print(\"Impar\")\n",
    "else:\n",
    "    print(\"Par\")"
   ]
  },
  {
   "cell_type": "markdown",
   "metadata": {},
   "source": [
    "Exercício 3: Verificação de Votação\n",
    "Peça ao usuário para inserir sua idade e imprima uma mensagem indicando se ele é elegível para votar (idade mínima para votar é 16 anos)."
   ]
  },
  {
   "cell_type": "code",
   "execution_count": 12,
   "metadata": {},
   "outputs": [
    {
     "name": "stdout",
     "output_type": "stream",
     "text": [
      "Elegível\n"
     ]
    }
   ],
   "source": [
    "idade = int(input('digite sua idade: '))\n",
    "if idade >= 16:\n",
    "    print(\"Elegível\")\n",
    "else:\n",
    "    print(\"Não tem idade mínima\")\n"
   ]
  },
  {
   "cell_type": "markdown",
   "metadata": {},
   "source": [
    "Exercício 4: Verificação de Conjuntos de Condições\n",
    "Peça ao usuário para inserir dois números e imprima uma mensagem indicando se ambos são positivos, ambos são negativos ou se um é positivo e o outro é negativo."
   ]
  },
  {
   "cell_type": "code",
   "execution_count": 17,
   "metadata": {},
   "outputs": [
    {
     "name": "stdout",
     "output_type": "stream",
     "text": [
      "negativo\n"
     ]
    }
   ],
   "source": [
    "numero_1 = int(input('Digite um numero: '))\n",
    "numero_2 = int(input('Digite outro número: '))\n",
    "\n",
    "\n",
    "if numero_1 > 0 and numero_2 > 0:\n",
    "    print(\"Ambos os números são positivos.\")\n",
    "elif numero_1 < 0 and numero_2 < 0:\n",
    "    print(\"Ambos os números são negativos.\")\n",
    "else:\n",
    "    print(\"Um número é positivo e o outro é negativo.\")"
   ]
  },
  {
   "cell_type": "markdown",
   "metadata": {},
   "source": [
    "Exercício 5: Verificação de Nome e Idade\n",
    "Peça ao usuário para inserir seu nome e idade. Imprima uma mensagem indicando se o nome é \"Alice\" ou se a idade é maior que 30."
   ]
  },
  {
   "cell_type": "code",
   "execution_count": 21,
   "metadata": {},
   "outputs": [
    {
     "name": "stdout",
     "output_type": "stream",
     "text": [
      "o nome é Alice\n"
     ]
    }
   ],
   "source": [
    "nome = input('Digite um nome: ')\n",
    "idade = int(input('Digite a idade: '))\n",
    "\n",
    "if nome == 'Alice':\n",
    "    print(\"o nome é Alice\")\n",
    "else:\n",
    "    print(\"o nome não é Alice\")\n",
    "\n",
    "if idade >30:\n",
    "    print('maior que 30')\n",
    "else:\n",
    "    print('menor que trinta')\n",
    "\n"
   ]
  },
  {
   "cell_type": "markdown",
   "metadata": {},
   "source": [
    "Exercício 6: Verificação de Negação\n",
    "Peça ao usuário para inserir um número e imprima uma mensagem indicando se o número não é zero."
   ]
  },
  {
   "cell_type": "code",
   "execution_count": 28,
   "metadata": {},
   "outputs": [
    {
     "name": "stdout",
     "output_type": "stream",
     "text": [
      "é 0\n"
     ]
    }
   ],
   "source": [
    "numero = int(input('Digite um numero: '))\n",
    "\n",
    "if numero != 0 :\n",
    "    print('Não é 0')\n",
    "else:\n",
    "    print('é 0')"
   ]
  },
  {
   "cell_type": "markdown",
   "metadata": {},
   "source": [
    "Exercício 7: Verificação de Faixa Etária\n",
    "Peça ao usuário para inserir sua idade e imprima uma mensagem indicando se ele está na faixa etária de 18 a 30 anos (inclusive), caso menor menor, informar de 18, caso maior de 30 informar, maior de 30."
   ]
  },
  {
   "cell_type": "code",
   "execution_count": 26,
   "metadata": {},
   "outputs": [
    {
     "name": "stdout",
     "output_type": "stream",
     "text": [
      "maior de 30\n"
     ]
    }
   ],
   "source": [
    "idade = int(input('digite sua idade: '))\n",
    "\n",
    "\n",
    "if idade <= 18:\n",
    "    print('informar de 18')\n",
    "elif 19 <=  idade   <= 30 :\n",
    "    print('faixa etária de 18 a 30 anos')\n",
    "elif idade  >=31:\n",
    "    print('maior de 30')"
   ]
  },
  {
   "cell_type": "markdown",
   "metadata": {},
   "source": [
    "Exercício 8: Verificação de Condições Combinadas = mais o menos\n",
    "Peça ao usuário para inserir dois números e imprima uma mensagem indicando se pelo menos um deles é positivo e o outro é par."
   ]
  },
  {
   "cell_type": "code",
   "execution_count": 29,
   "metadata": {},
   "outputs": [
    {
     "name": "stdout",
     "output_type": "stream",
     "text": [
      "pelo menos um deles é positivo.\n",
      "pelo menos um deles é impar\n"
     ]
    }
   ],
   "source": [
    "numero_1 = int(input('digite um numero:'))\n",
    "numero_2 = int(input('digite outro numero:'))\n",
    "\n",
    "\n",
    "if numero_1 > 0 and numero_2 > 0:\n",
    "    print(\"pelo menos um deles é positivo.\")\n",
    "else:\n",
    "    ('Não tem positivo')\n",
    "\n",
    "if numero_1 %2 == 0 and numero_2 %2 == 0:\n",
    "    print(\"pelo menos um deles é par\")\n",
    "else:\n",
    "    print('pelo menos um deles é impar')"
   ]
  },
  {
   "cell_type": "markdown",
   "metadata": {},
   "source": [
    "Exercício 9: Verificação de Nota\n",
    "Peça ao usuário para inserir sua nota e imprima uma mensagem indicando se ele foi aprovado (nota maior ou igual a 60) ou reprovado."
   ]
  },
  {
   "cell_type": "code",
   "execution_count": 35,
   "metadata": {},
   "outputs": [
    {
     "name": "stdout",
     "output_type": "stream",
     "text": [
      "Reprovado.\n"
     ]
    }
   ],
   "source": [
    "numero_1 = int(input('inserir sua nota: '))\n",
    "\n",
    "\n",
    "if numero_1 >= 60:\n",
    "    print(\"Aprovado.\")\n",
    "else:\n",
    "    print('Reprovado.')"
   ]
  },
  {
   "cell_type": "markdown",
   "metadata": {},
   "source": [
    "Exercício 10: Verificação de Palavras-chave\n",
    "Peça ao usuário para inserir uma frase e imprima uma mensagem indicando se a frase contém as palavras \"Python\" e \"programação\"."
   ]
  },
  {
   "cell_type": "code",
   "execution_count": 38,
   "metadata": {},
   "outputs": [
    {
     "name": "stdout",
     "output_type": "stream",
     "text": [
      "Não contém as palavras \"Python\" e \"programação\".\n"
     ]
    }
   ],
   "source": [
    "frase = input('Inserir uma frase: ')\n",
    "\n",
    "if 'Python' in frase and 'programação' in frase:\n",
    "    print('Contém as palavras \"Python\" e \"programação\".')\n",
    "else:\n",
    "    print('Não contém as palavras \"Python\" e \"programação\".')"
   ]
  },
  {
   "cell_type": "markdown",
   "metadata": {},
   "source": [
    "-Calculadora com Tratamento de Exceções\n",
    "Crie um programa que receba dois números e uma operação (+, -, *, /). Realize a operação correspondente nos números, tratando exceções de entrada inválida e divisão por zero."
   ]
  },
  {
   "cell_type": "code",
   "execution_count": null,
   "metadata": {},
   "outputs": [],
   "source": [
    "print(\"Calculadora com Tratamento de Exceções\")\n",
    "\n",
    "numero_1 = int(input('inserir um numero: '))\n",
    "numero_2 = int(input('inserir um numero: '))"
   ]
  }
 ],
 "metadata": {
  "kernelspec": {
   "display_name": "Python 3",
   "language": "python",
   "name": "python3"
  },
  "language_info": {
   "codemirror_mode": {
    "name": "ipython",
    "version": 3
   },
   "file_extension": ".py",
   "mimetype": "text/x-python",
   "name": "python",
   "nbconvert_exporter": "python",
   "pygments_lexer": "ipython3",
   "version": "3.12.4"
  }
 },
 "nbformat": 4,
 "nbformat_minor": 2
}
